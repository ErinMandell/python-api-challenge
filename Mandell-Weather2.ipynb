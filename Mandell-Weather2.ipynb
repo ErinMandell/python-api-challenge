{
 "cells": [
  {
   "cell_type": "markdown",
   "metadata": {},
   "source": [
    "# WeatherPy"
   ]
  },
  {
   "cell_type": "code",
   "execution_count": 1,
   "metadata": {
    "scrolled": true
   },
   "outputs": [],
   "source": [
    "# Dependencies and Setup\n",
    "import matplotlib.pyplot as plt\n",
    "import pandas as pd\n",
    "import numpy as np\n",
    "import requests\n",
    "import time\n",
    "import json\n",
    "from pprint import pprint\n",
    "\n",
    "# Import API key\n",
    "from api_keys import api_key\n",
    "\n",
    "# Incorporated citipy to determine city based on latitude and longitude\n",
    "from citipy import citipy\n",
    "\n",
    "# Output File (CSV)\n",
    "output_data_file = \"output_data/cities.csv\"\n",
    "\n",
    "# Range of latitudes and longitudes\n",
    "lat_range = (-90, 90)\n",
    "lng_range = (-180, 180)"
   ]
  },
  {
   "cell_type": "markdown",
   "metadata": {},
   "source": [
    "## Generate Cities List"
   ]
  },
  {
   "cell_type": "code",
   "execution_count": 2,
   "metadata": {},
   "outputs": [
    {
     "name": "stdout",
     "output_type": "stream",
     "text": [
      "84\n"
     ]
    },
    {
     "data": {
      "text/html": [
       "<div>\n",
       "<style scoped>\n",
       "    .dataframe tbody tr th:only-of-type {\n",
       "        vertical-align: middle;\n",
       "    }\n",
       "\n",
       "    .dataframe tbody tr th {\n",
       "        vertical-align: top;\n",
       "    }\n",
       "\n",
       "    .dataframe thead th {\n",
       "        text-align: right;\n",
       "    }\n",
       "</style>\n",
       "<table border=\"1\" class=\"dataframe\">\n",
       "  <thead>\n",
       "    <tr style=\"text-align: right;\">\n",
       "      <th></th>\n",
       "      <th>CityName</th>\n",
       "      <th>Country</th>\n",
       "      <th>Cloudiness</th>\n",
       "      <th>Date</th>\n",
       "      <th>Humidity</th>\n",
       "      <th>Lat</th>\n",
       "      <th>Lng</th>\n",
       "      <th>Max Temp</th>\n",
       "      <th>Wind Speed</th>\n",
       "    </tr>\n",
       "  </thead>\n",
       "  <tbody>\n",
       "    <tr>\n",
       "      <td>0</td>\n",
       "      <td>Batemans Bay</td>\n",
       "      <td></td>\n",
       "      <td></td>\n",
       "      <td></td>\n",
       "      <td></td>\n",
       "      <td></td>\n",
       "      <td></td>\n",
       "      <td></td>\n",
       "      <td></td>\n",
       "    </tr>\n",
       "    <tr>\n",
       "      <td>1</td>\n",
       "      <td>Coihaique</td>\n",
       "      <td></td>\n",
       "      <td></td>\n",
       "      <td></td>\n",
       "      <td></td>\n",
       "      <td></td>\n",
       "      <td></td>\n",
       "      <td></td>\n",
       "      <td></td>\n",
       "    </tr>\n",
       "    <tr>\n",
       "      <td>2</td>\n",
       "      <td>Kushmurun</td>\n",
       "      <td></td>\n",
       "      <td></td>\n",
       "      <td></td>\n",
       "      <td></td>\n",
       "      <td></td>\n",
       "      <td></td>\n",
       "      <td></td>\n",
       "      <td></td>\n",
       "    </tr>\n",
       "    <tr>\n",
       "      <td>3</td>\n",
       "      <td>Cidreira</td>\n",
       "      <td></td>\n",
       "      <td></td>\n",
       "      <td></td>\n",
       "      <td></td>\n",
       "      <td></td>\n",
       "      <td></td>\n",
       "      <td></td>\n",
       "      <td></td>\n",
       "    </tr>\n",
       "    <tr>\n",
       "      <td>4</td>\n",
       "      <td>Aldan</td>\n",
       "      <td></td>\n",
       "      <td></td>\n",
       "      <td></td>\n",
       "      <td></td>\n",
       "      <td></td>\n",
       "      <td></td>\n",
       "      <td></td>\n",
       "      <td></td>\n",
       "    </tr>\n",
       "  </tbody>\n",
       "</table>\n",
       "</div>"
      ],
      "text/plain": [
       "       CityName Country Cloudiness Date Humidity Lat Lng Max Temp Wind Speed\n",
       "0  Batemans Bay                                                             \n",
       "1     Coihaique                                                             \n",
       "2     Kushmurun                                                             \n",
       "3      Cidreira                                                             \n",
       "4         Aldan                                                             "
      ]
     },
     "execution_count": 2,
     "metadata": {},
     "output_type": "execute_result"
    }
   ],
   "source": [
    "# List for holding lat_lngs and cities\n",
    "lat_lngs = []\n",
    "cities = []\n",
    "\n",
    "# Create a set of random lat and lng combinations\n",
    "lats = np.random.uniform(low=-90.000, high=90.000, size=100)\n",
    "lngs = np.random.uniform(low=-180.000, high=180.000, size=100)\n",
    "lat_lngs = zip(lats, lngs)\n",
    "\n",
    "\n",
    "# Identify nearest city for each lat, lng combination\n",
    "for lat_lng in lat_lngs:\n",
    "    city = citipy.nearest_city(lat_lng[0], lat_lng[1]).city_name\n",
    "    \n",
    "    # If the city is unique, then add it to a our cities list\n",
    "    if city not in cities:\n",
    "        cities.append(city)\n",
    "\n",
    "# Create a DataFrame to hold the cities data\n",
    "cities_df=pd.DataFrame(cities)\n",
    "\n",
    "cities_df[\"Country\"]=\"\"\n",
    "cities_df[\"Cloudiness\"]=\"\"\n",
    "cities_df[\"Date\"]=\"\"\n",
    "cities_df[\"Humidity\"]=\"\"\n",
    "cities_df[\"Lat\"]=\"\"\n",
    "cities_df[\"Lng\"]=\"\"\n",
    "cities_df[\"Max Temp\"]=\"\"\n",
    "cities_df[\"Wind Speed\"]=\"\"\n",
    "cities_df=cities_df.rename(columns={0:\"CityName\"})\n",
    "cities_df['CityName'] = (cities_df['CityName'].str.title())\n",
    "\n",
    "unique = len(cities_df['CityName'].unique())\n",
    "print(unique)\n",
    "cities_df.head()"
   ]
  },
  {
   "cell_type": "markdown",
   "metadata": {},
   "source": [
    "### Perform API Calls\n",
    "* Perform a weather check on each city using a series of successive API calls.\n",
    "* Include a print log of each city as it'sbeing processed (with the city number and city name).\n"
   ]
  },
  {
   "cell_type": "code",
   "execution_count": 3,
   "metadata": {
    "scrolled": true
   },
   "outputs": [
    {
     "name": "stdout",
     "output_type": "stream",
     "text": [
      "Beginning Data Retrieval\n",
      "Processing Record 1 of Set 1 | Batemans Bay\n",
      "Processing Record 2 of Set 1 | Coihaique\n",
      "City not found. Skipping...\n",
      "Processing Record 3 of Set 1 | Cidreira\n",
      "Processing Record 4 of Set 1 | Aldan\n",
      "Processing Record 5 of Set 1 | Chuy\n",
      "City not found. Skipping...\n",
      "Processing Record 6 of Set 1 | Minot\n",
      "Processing Record 7 of Set 1 | Souillac\n",
      "City not found. Skipping...\n",
      "Processing Record 8 of Set 1 | Atherton\n",
      "Processing Record 9 of Set 1 | Borogontsy\n",
      "Processing Record 10 of Set 1 | Lumphat\n",
      "Processing Record 11 of Set 1 | Kavaratti\n",
      "Processing Record 12 of Set 1 | Cherskiy\n",
      "Processing Record 13 of Set 1 | Codrington\n",
      "Processing Record 14 of Set 1 | Portmore\n",
      "Processing Record 15 of Set 1 | Golkoy\n",
      "Processing Record 16 of Set 1 | Mataura\n",
      "Processing Record 17 of Set 1 | Yulara\n",
      "Processing Record 18 of Set 1 | Castro\n",
      "Processing Record 19 of Set 1 | Lubango\n",
      "Processing Record 20 of Set 1 | Albany\n",
      "Processing Record 21 of Set 1 | Ahipara\n",
      "Processing Record 22 of Set 1 | Hermanus\n",
      "Processing Record 23 of Set 1 | Iwanai\n",
      "Processing Record 24 of Set 1 | Mackenzie\n",
      "Processing Record 25 of Set 1 | Carnarvon\n",
      "Processing Record 26 of Set 1 | Kaitangata\n",
      "Processing Record 27 of Set 1 | Barrow\n",
      "Processing Record 28 of Set 1 | Katherine\n",
      "City not found. Skipping...\n",
      "Processing Record 29 of Set 1 | La Asuncion\n",
      "Processing Record 30 of Set 1 | Dibulla\n",
      "Processing Record 31 of Set 1 | Iqaluit\n",
      "Processing Record 32 of Set 1 | Norilsk\n",
      "Processing Record 33 of Set 1 | Cape Town\n",
      "Processing Record 34 of Set 1 | Aswan\n",
      "City not found. Skipping...\n",
      "Processing Record 35 of Set 1 | Georgetown\n",
      "Processing Record 36 of Set 1 | Kavieng\n",
      "Processing Record 37 of Set 1 | Aklavik\n",
      "Processing Record 38 of Set 1 | Port Augusta\n",
      "Processing Record 39 of Set 1 | Nikolskoye\n",
      "Processing Record 40 of Set 1 | Jalu\n",
      "Processing Record 41 of Set 1 | Butaritari\n",
      "Processing Record 42 of Set 1 | Buin\n",
      "Processing Record 43 of Set 1 | Jijiga\n",
      "City not found. Skipping...\n",
      "Processing Record 44 of Set 1 | Hobart\n",
      "Processing Record 45 of Set 1 | Rikitea\n",
      "Processing Record 46 of Set 1 | Jackson\n",
      "Processing Record 47 of Set 1 | Yellowknife\n",
      "Processing Record 48 of Set 1 | Cabinda\n",
      "Processing Record 49 of Set 1 | Ravar\n",
      "Processing Record 50 of Set 1 | Clarence Town\n",
      "Processing Record 1 of Set 2 | Mount Gambier\n",
      "Processing Record 2 of Set 2 | Kodiak\n",
      "Processing Record 3 of Set 2 | Margate\n",
      "Processing Record 4 of Set 2 | Busselton\n",
      "Processing Record 5 of Set 2 | Ngaoundere\n",
      "City not found. Skipping...\n",
      "Processing Record 6 of Set 2 | Touros\n",
      "Processing Record 7 of Set 2 | Goundam\n",
      "Processing Record 8 of Set 2 | Mehamn\n",
      "Processing Record 9 of Set 2 | Sao Joao Da Barra\n",
      "Processing Record 10 of Set 2 | Biak\n",
      "City not found. Skipping...\n",
      "Processing Record 11 of Set 2 | Namibe\n",
      "Processing Record 12 of Set 2 | Kisangani\n",
      "Processing Record 13 of Set 2 | Vaini\n",
      "Processing Record 14 of Set 2 | Alugan\n",
      "Processing Record 15 of Set 2 | Quang Ngai\n",
      "Processing Record 16 of Set 2 | Kapaa\n",
      "Processing Record 17 of Set 2 | Qaanaaq\n",
      "Processing Record 18 of Set 2 | Ponta Do Sol\n",
      "Processing Record 19 of Set 2 | Arraial Do Cabo\n",
      "Processing Record 20 of Set 2 | Lebu\n",
      "Processing Record 21 of Set 2 | Saint-Philippe\n",
      "Processing Record 22 of Set 2 | Abu Kamal\n",
      "Processing Record 23 of Set 2 | Atuona\n",
      "Processing Record 24 of Set 2 | Ushuaia\n",
      "Processing Record 25 of Set 2 | Novyy Urgal\n",
      "Processing Record 26 of Set 2 | New Norfolk\n"
     ]
    }
   ],
   "source": [
    "# Save config information\n",
    "url = \"http://api.openweathermap.org/data/2.5/weather?\"\n",
    "units = \"imperial\"\n",
    "weatherdata = []\n",
    "notfound = []\n",
    "record = 0\n",
    "set = 1\n",
    "print(\"Beginning Data Retrieval\")\n",
    "\n",
    "# Build query URL, get weather data for each city:\n",
    "for index, row in cities_df.iterrows():\n",
    "    city = row['CityName']\n",
    "    query_url = f\"{url}appid={api_key}&units={units}&q={city}\"\n",
    "\n",
    "    #store request response\n",
    "    weather_responses = requests.get(query_url).json()\n",
    "    \n",
    "    #increment for data log output\n",
    "    if record >= 50 and record % 50 == 0:\n",
    "        record = 0\n",
    "        set += 1\n",
    "    \n",
    "    #sleep for 1 second to call only 60 per minute\n",
    "    time.sleep(1)\n",
    "    \n",
    "    #append each weather response to weatherdata list\n",
    "    weatherdata.append(weather_responses)\n",
    "\n",
    "        \n",
    "    try:\n",
    "        cities_df.loc[index, 'Cloudiness'] = weatherdata[index]['clouds']['all']\n",
    "        cities_df.loc[index, 'Country'] = weatherdata[index]['sys']['country']\n",
    "        cities_df.loc[index, 'Date'] = weatherdata[index]['dt']\n",
    "        cities_df.loc[index, 'Humidity'] = weatherdata[index]['main']['humidity']\n",
    "        cities_df.loc[index, 'Lat'] = weatherdata[index]['coord']['lat']\n",
    "        cities_df.loc[index, 'Lng'] = weatherdata[index]['coord']['lon']\n",
    "        cities_df.loc[index, 'Max Temp'] = weatherdata[index]['main']['temp_max']\n",
    "        cities_df.loc[index, 'Wind Speed'] = weatherdata[index]['wind']['speed']\n",
    "        record += 1\n",
    "        print(f\"Processing Record {record} of Set {set} | {city}\")\n",
    "        \n",
    "    except (KeyError, IndexError):\n",
    "        notfound.append(index)\n",
    "        print(\"City not found. Skipping...\")\n"
   ]
  },
  {
   "cell_type": "code",
   "execution_count": 4,
   "metadata": {},
   "outputs": [
    {
     "data": {
      "text/html": [
       "<div>\n",
       "<style scoped>\n",
       "    .dataframe tbody tr th:only-of-type {\n",
       "        vertical-align: middle;\n",
       "    }\n",
       "\n",
       "    .dataframe tbody tr th {\n",
       "        vertical-align: top;\n",
       "    }\n",
       "\n",
       "    .dataframe thead th {\n",
       "        text-align: right;\n",
       "    }\n",
       "</style>\n",
       "<table border=\"1\" class=\"dataframe\">\n",
       "  <thead>\n",
       "    <tr style=\"text-align: right;\">\n",
       "      <th></th>\n",
       "      <th>CityName</th>\n",
       "      <th>Country</th>\n",
       "      <th>Cloudiness</th>\n",
       "      <th>Date</th>\n",
       "      <th>Humidity</th>\n",
       "      <th>Lat</th>\n",
       "      <th>Lng</th>\n",
       "      <th>Max Temp</th>\n",
       "      <th>Wind Speed</th>\n",
       "    </tr>\n",
       "  </thead>\n",
       "  <tbody>\n",
       "    <tr>\n",
       "      <td>79</td>\n",
       "      <td>Abu Kamal</td>\n",
       "      <td>SY</td>\n",
       "      <td>13</td>\n",
       "      <td>1570755777</td>\n",
       "      <td>24</td>\n",
       "      <td>34.45</td>\n",
       "      <td>40.92</td>\n",
       "      <td>75.16</td>\n",
       "      <td>4.46</td>\n",
       "    </tr>\n",
       "    <tr>\n",
       "      <td>80</td>\n",
       "      <td>Atuona</td>\n",
       "      <td>PF</td>\n",
       "      <td>3</td>\n",
       "      <td>1570755779</td>\n",
       "      <td>67</td>\n",
       "      <td>-9.8</td>\n",
       "      <td>-139.03</td>\n",
       "      <td>79.09</td>\n",
       "      <td>9.25</td>\n",
       "    </tr>\n",
       "    <tr>\n",
       "      <td>81</td>\n",
       "      <td>Ushuaia</td>\n",
       "      <td>AR</td>\n",
       "      <td>75</td>\n",
       "      <td>1570755780</td>\n",
       "      <td>92</td>\n",
       "      <td>-54.81</td>\n",
       "      <td>-68.31</td>\n",
       "      <td>28.4</td>\n",
       "      <td>28.86</td>\n",
       "    </tr>\n",
       "    <tr>\n",
       "      <td>82</td>\n",
       "      <td>Novyy Urgal</td>\n",
       "      <td>RU</td>\n",
       "      <td>77</td>\n",
       "      <td>1570755781</td>\n",
       "      <td>61</td>\n",
       "      <td>51.07</td>\n",
       "      <td>132.56</td>\n",
       "      <td>33.78</td>\n",
       "      <td>8.55</td>\n",
       "    </tr>\n",
       "    <tr>\n",
       "      <td>83</td>\n",
       "      <td>New Norfolk</td>\n",
       "      <td>AU</td>\n",
       "      <td>75</td>\n",
       "      <td>1570755782</td>\n",
       "      <td>66</td>\n",
       "      <td>-42.78</td>\n",
       "      <td>147.06</td>\n",
       "      <td>54</td>\n",
       "      <td>8.05</td>\n",
       "    </tr>\n",
       "  </tbody>\n",
       "</table>\n",
       "</div>"
      ],
      "text/plain": [
       "       CityName Country Cloudiness        Date Humidity    Lat     Lng  \\\n",
       "79    Abu Kamal      SY         13  1570755777       24  34.45   40.92   \n",
       "80       Atuona      PF          3  1570755779       67   -9.8 -139.03   \n",
       "81      Ushuaia      AR         75  1570755780       92 -54.81  -68.31   \n",
       "82  Novyy Urgal      RU         77  1570755781       61  51.07  132.56   \n",
       "83  New Norfolk      AU         75  1570755782       66 -42.78  147.06   \n",
       "\n",
       "   Max Temp Wind Speed  \n",
       "79    75.16       4.46  \n",
       "80    79.09       9.25  \n",
       "81     28.4      28.86  \n",
       "82    33.78       8.55  \n",
       "83       54       8.05  "
      ]
     },
     "execution_count": 4,
     "metadata": {},
     "output_type": "execute_result"
    }
   ],
   "source": [
    "#drop rows with incomplete data, print df\n",
    "cities_df=cities_df.drop(notfound)\n",
    "\n",
    "#verify that end of file data matches\n",
    "cities_df.tail()"
   ]
  },
  {
   "cell_type": "markdown",
   "metadata": {},
   "source": [
    "### Convert Raw Data to DataFrame\n",
    "* Export the city data into a .csv.\n",
    "* Display the DataFrame"
   ]
  },
  {
   "cell_type": "code",
   "execution_count": null,
   "metadata": {},
   "outputs": [],
   "source": [
    "cities_df.to_csv(\"Mandell2WeatherData.csv\", index=False, header=True)"
   ]
  },
  {
   "cell_type": "code",
   "execution_count": null,
   "metadata": {},
   "outputs": [],
   "source": [
    "cities_df.head(5)"
   ]
  },
  {
   "cell_type": "code",
   "execution_count": 5,
   "metadata": {},
   "outputs": [
    {
     "data": {
      "text/plain": [
       "'10/10/19'"
      ]
     },
     "execution_count": 5,
     "metadata": {},
     "output_type": "execute_result"
    }
   ],
   "source": [
    "from datetime import datetime\n",
    "date=cities_df.iloc[1,3]\n",
    "#datetime.fromtimestamp(int(date))\n",
    "\n",
    "datetime=time.strftime(\"%D %H:%M\", time.localtime(int(date)))\n",
    "strdate=str(datetime)\n",
    "strdate\n",
    "\n",
    "weatherdate=strdate.split(\" \")[0]\n",
    "weatherdate"
   ]
  },
  {
   "cell_type": "markdown",
   "metadata": {},
   "source": [
    "### Plotting the Data\n",
    "* Use proper labeling of the plots using plot titles (including date of analysis) and axes labels.\n",
    "* Save the plotted figures as .pngs."
   ]
  },
  {
   "cell_type": "markdown",
   "metadata": {},
   "source": [
    "#### Latitude vs. Temperature Plot"
   ]
  },
  {
   "cell_type": "code",
   "execution_count": 16,
   "metadata": {
    "scrolled": true
   },
   "outputs": [
    {
     "data": {
      "image/png": "[encoded data removed]",
      "text/plain": [
       "<Figure size 432x288 with 1 Axes>"
      ]
     },
     "metadata": {
      "needs_background": "light"
     },
     "output_type": "display_data"
    }
   ],
   "source": [
    "latitude=cities_df.loc[:, \"Lat\"]\n",
    "temp=cities_df.loc[:, \"Max Temp\"]\n",
    "\n",
    "plt.scatter(latitude, temp, marker=\"o\", facecolors=\"blue\", edgecolors=\"black\", alpha=.75)\n",
    "\n",
    "plt.xlim(min(cities_df[\"Lat\"]-5), max(cities_df[\"Lat\"]+5))\n",
    "plt.ylim(min(cities_df[\"Max Temp\"])-5, max(cities_df[\"Max Temp\"]+5))\n",
    "\n",
    "plt.title(f\"City Latitude vs Max Temperature ({weatherdate})\")\n",
    "plt.xlabel(\"Latitude of City\")\n",
    "plt.ylabel(\"Temperature (F)\")\n",
    "plt.grid()\n",
    "plt.savefig('Temperature_vs_Lat')\n",
    "plt.show()\n",
    "\n",
    "\n",
    "#ax=cities_df.plot(kind='scatter', x='latitude', y='temp, color='blue', alpha=.75)\n"
   ]
  },
  {
   "cell_type": "code",
   "execution_count": null,
   "metadata": {},
   "outputs": [],
   "source": []
  },
  {
   "cell_type": "markdown",
   "metadata": {},
   "source": [
    "#### Latitude vs. Humidity Plot"
   ]
  },
  {
   "cell_type": "code",
   "execution_count": 22,
   "metadata": {
    "scrolled": true
   },
   "outputs": [
    {
     "data": {
      "image/png": "[encoded data removed]",
      "text/plain": [
       "<Figure size 432x288 with 1 Axes>"
      ]
     },
     "metadata": {
      "needs_background": "light"
     },
     "output_type": "display_data"
    }
   ],
   "source": [
    "latitude=cities_df.loc[:, \"Lat\"]\n",
    "humidity=cities_df.loc[:, \"Humidity\"]\n",
    "\n",
    "plt.scatter(latitude, humidity, marker=\"o\", facecolors=\"blue\", edgecolors=\"black\", alpha=.75)\n",
    "\n",
    "plt.xlim(min(cities_df[\"Lat\"]-5), max(cities_df[\"Lat\"]+5))\n",
    "plt.ylim(min(cities_df[\"Humidity\"])-5, max(cities_df[\"Humidity\"]+5))\n",
    "\n",
    "plt.title(f\"City Latitude vs Humidity  ({weatherdate})\")\n",
    "plt.xlabel(\"Latitude of City\")\n",
    "plt.ylabel(\"Humidity (%)\")\n",
    "plt.grid()\n",
    "plt.savefig('Humidity_vs_Lat')\n",
    "plt.show()"
   ]
  },
  {
   "cell_type": "markdown",
   "metadata": {},
   "source": [
    "#### Latitude vs. Cloudiness Plot"
   ]
  },
  {
   "cell_type": "code",
   "execution_count": 23,
   "metadata": {},
   "outputs": [
    {
     "data": {
      "image/png": "[encoded data removed]",
      "text/plain": [
       "<Figure size 432x288 with 1 Axes>"
      ]
     },
     "metadata": {
      "needs_background": "light"
     },
     "output_type": "display_data"
    }
   ],
   "source": [
    "latitude=cities_df.loc[:, \"Lat\"]\n",
    "clouds=cities_df.loc[:, \"Cloudiness\"]\n",
    "\n",
    "plt.scatter(latitude, clouds, marker=\"o\", facecolors=\"blue\", edgecolors=\"black\", alpha=.75)\n",
    "\n",
    "plt.xlim(min(cities_df[\"Lat\"]-5), max(cities_df[\"Lat\"]+5))\n",
    "plt.ylim(min(cities_df[\"Cloudiness\"])-5, max(cities_df[\"Cloudiness\"]+5))\n",
    "\n",
    "plt.title(f\"City Latitude vs Cloudiness  ({weatherdate})\")\n",
    "plt.xlabel(\"Latitude of City\")\n",
    "plt.ylabel(\"Cloudiness (%) \")\n",
    "plt.grid()\n",
    "plt.savefig('Cloudiness_vs_Lat')\n",
    "plt.show()"
   ]
  },
  {
   "cell_type": "markdown",
   "metadata": {},
   "source": [
    "#### Latitude vs. Wind Speed Plot"
   ]
  },
  {
   "cell_type": "code",
   "execution_count": 25,
   "metadata": {},
   "outputs": [
    {
     "data": {
      "image/png": "[encoded data removed]",
      "text/plain": [
       "<Figure size 432x288 with 1 Axes>"
      ]
     },
     "metadata": {
      "needs_background": "light"
     },
     "output_type": "display_data"
    }
   ],
   "source": [
    "latitude=cities_df.loc[:, \"Lat\"]\n",
    "windspeed=cities_df.loc[:, \"Wind Speed\"]\n",
    "\n",
    "plt.scatter(latitude, windspeed, marker=\"o\", facecolors=\"blue\", edgecolors=\"black\", alpha=.75)\n",
    "\n",
    "plt.xlim(min(cities_df[\"Lat\"]-5), max(cities_df[\"Lat\"]+5))\n",
    "plt.ylim(min(cities_df[\"Wind Speed\"])-5, max(cities_df[\"Wind Speed\"]+5))\n",
    "\n",
    "plt.title(f\"City Latitude vs Wind Speed  ({weatherdate})\")\n",
    "plt.xlabel(\"Latitude of City\")\n",
    "plt.ylabel(\"Wind Speed (mph)\")\n",
    "plt.grid()\n",
    "plt.savefig('WindSpeed_vs_Lat')\n",
    "plt.show()"
   ]
  },
  {
   "cell_type": "code",
   "execution_count": null,
   "metadata": {},
   "outputs": [],
   "source": []
  }
 ],
 "metadata": {
  "anaconda-cloud": {},
  "kernel_info": {
   "name": "python3"
  },
  "kernelspec": {
   "display_name": "Python 3",
   "language": "python",
   "name": "python3"
  },
  "language_info": {
   "codemirror_mode": {
    "name": "ipython",
    "version": 3
   },
   "file_extension": ".py",
   "mimetype": "text/x-python",
   "name": "python",
   "nbconvert_exporter": "python",
   "pygments_lexer": "ipython3",
   "version": "3.6.9"
  },
  "nteract": {
   "version": "0.12.3"
  }
 },
 "nbformat": 4,
 "nbformat_minor": 2
}
